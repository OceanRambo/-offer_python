{
 "cells": [
  {
   "cell_type": "markdown",
   "metadata": {},
   "source": [
    "求斐波那契数列第n项，\n",
    "斐波那契数列形式[1,1,2,3,5,8,13...]"
   ]
  },
  {
   "cell_type": "code",
   "execution_count": 66,
   "metadata": {},
   "outputs": [],
   "source": [
    "class Solution:\n",
    "    def  fibonacci(self, n):\n",
    "        if n <= 0:\n",
    "            return 0\n",
    "        if n == 1:\n",
    "            return 1\n",
    "        \n",
    "        a, b = 0, 1\n",
    "        for i in range(2, n+1):\n",
    "            a, b = b, a+b\n",
    "            \n",
    "        return b\n",
    "        \n",
    "    def  fibonacci2(self, n):\n",
    "        # 下面更简便\n",
    "        tempArray = [0, 1]\n",
    "        if n >= 2:\n",
    "            for i in range(2, n+1):\n",
    "                tempArray[i%2] = tempArray[0] + tempArray[1]\n",
    "        return tempArray[n%2]\n",
    "            "
   ]
  },
  {
   "cell_type": "code",
   "execution_count": 67,
   "metadata": {},
   "outputs": [
    {
     "name": "stdout",
     "output_type": "stream",
     "text": [
      "354224848179261915075\n",
      "1\n",
      "573147844013817084101\n",
      "1\n"
     ]
    }
   ],
   "source": [
    "s = Solution()\n",
    "print(s.fibonacci(100))\n",
    "print(s.fibonacci(2))\n",
    "\n",
    "print(s.fibonacci2(101))\n",
    "print(s.fibonacci2(2))\n"
   ]
  },
  {
   "cell_type": "markdown",
   "metadata": {},
   "source": [
    "扩展：青蛙跳台阶问题"
   ]
  },
  {
   "cell_type": "code",
   "execution_count": 68,
   "metadata": {},
   "outputs": [],
   "source": [
    "class Solution:   \n",
    "    # 青蛙跳台阶, 每次可以跳1级或2级(斐波那契数列的变形，[1,2,3,5,8....]）\n",
    "    def jumpFloor(self, n):\n",
    "        if n <= 0:\n",
    "            return 0\n",
    "        if n in (1, 2):\n",
    "            return n\n",
    "        \n",
    "        a, b = 1, 2\n",
    "        for i in range(3, n+1):\n",
    "            a, b = b, a+b\n",
    "            \n",
    "        return b\n",
    "    \n",
    "    # 变态青蛙跳，每次至少跳一个，至多跳n个，一共有f(n)=2^(n-1)种跳法\n",
    "    def jumpFloor2(self, n):\n",
    "            result = 1\n",
    "            if n >= 2:\n",
    "                for i in range(n-1):\n",
    "                    result *= 2\n",
    "            return result"
   ]
  },
  {
   "cell_type": "code",
   "execution_count": 69,
   "metadata": {},
   "outputs": [
    {
     "name": "stdout",
     "output_type": "stream",
     "text": [
      "34\n",
      "2\n",
      "2\n",
      "8\n"
     ]
    }
   ],
   "source": [
    "s = Solution()\n",
    "print(s.jumpFloor(8))\n",
    "print(s.jumpFloor(2))\n",
    "print(s.jumpFloor2(2))\n",
    "print(s.jumpFloor2(4))"
   ]
  },
  {
   "cell_type": "code",
   "execution_count": null,
   "metadata": {},
   "outputs": [],
   "source": []
  },
  {
   "cell_type": "code",
   "execution_count": null,
   "metadata": {},
   "outputs": [],
   "source": []
  }
 ],
 "metadata": {
  "kernelspec": {
   "display_name": "Python 3",
   "language": "python",
   "name": "python3"
  },
  "language_info": {
   "codemirror_mode": {
    "name": "ipython",
    "version": 3
   },
   "file_extension": ".py",
   "mimetype": "text/x-python",
   "name": "python",
   "nbconvert_exporter": "python",
   "pygments_lexer": "ipython3",
   "version": "3.6.5"
  }
 },
 "nbformat": 4,
 "nbformat_minor": 2
}
