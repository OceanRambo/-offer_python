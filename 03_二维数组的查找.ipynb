{
 "cells": [
  {
   "cell_type": "markdown",
   "metadata": {},
   "source": [
    "在一个二维数组中，每一行都按照从左到右递增的顺序排序\n",
    "每一列都按照从上到下递增的顺序排序。\n",
    "请完成一个函数，输入这样的一个二维数组和一个整数，判断数组中是否含有该整数。"
   ]
  },
  {
   "cell_type": "markdown",
   "metadata": {},
   "source": [
    "思路：\n",
    "查找方式从右上角开始查找，\n",
    "如果当前元素大于target, 左移一位继续查找，\n",
    "如果当前元素小于target, 下移一位继续查找。"
   ]
  },
  {
   "cell_type": "code",
   "execution_count": 10,
   "metadata": {},
   "outputs": [],
   "source": [
    "class Solution:\n",
    "    def Find(self, matrix, target):        \n",
    "        if not matrix:\n",
    "             return False\n",
    "            \n",
    "        rows = len(matrix)\n",
    "        columns = len(matrix[0])\n",
    "        r = 0\n",
    "        c = columns - 1\n",
    "        while r < rows and c >= 0:\n",
    "            if target == matrix[r][c]:\n",
    "                return True\n",
    "            if target < matrix[r][c]:\n",
    "                c -= 1\n",
    "            else:\n",
    "                r += 1\n",
    "                \n",
    "        return False\n",
    "        "
   ]
  },
  {
   "cell_type": "code",
   "execution_count": 12,
   "metadata": {},
   "outputs": [
    {
     "name": "stdout",
     "output_type": "stream",
     "text": [
      "True\n",
      "False\n"
     ]
    }
   ],
   "source": [
    "array = [[1, 2, 8, 9],\n",
    "         [2, 4, 9, 12],\n",
    "         [4, 7, 10, 13],\n",
    "         [6, 8, 11, 15]]\n",
    "\n",
    "findtarget = Solution()\n",
    "print(findtarget.Find(array, 10))\n",
    "print(findtarget.Find(array, 30))\n"
   ]
  },
  {
   "cell_type": "code",
   "execution_count": null,
   "metadata": {},
   "outputs": [],
   "source": []
  },
  {
   "cell_type": "code",
   "execution_count": null,
   "metadata": {},
   "outputs": [],
   "source": []
  }
 ],
 "metadata": {
  "kernelspec": {
   "display_name": "Python 3",
   "language": "python",
   "name": "python3"
  },
  "language_info": {
   "codemirror_mode": {
    "name": "ipython",
    "version": 3
   },
   "file_extension": ".py",
   "mimetype": "text/x-python",
   "name": "python",
   "nbconvert_exporter": "python",
   "pygments_lexer": "ipython3",
   "version": "3.6.5"
  }
 },
 "nbformat": 4,
 "nbformat_minor": 2
}
