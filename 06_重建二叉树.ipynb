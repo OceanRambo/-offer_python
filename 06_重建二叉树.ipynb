{
 "cells": [
  {
   "cell_type": "markdown",
   "metadata": {},
   "source": [
    "输入某二叉树的前序遍历和中序遍历的结果，请重建出该二叉树。\n",
    "假设输入的前序遍历和中序遍历的结果中都不含重复的数字。\n",
    "例如输入前序遍历序列{1,2,4,7,3,5,6,8}和中序遍历序列{4,7,2,1,5,3,8,6}，则重建二叉树并输出头节点。"
   ]
  },
  {
   "cell_type": "code",
   "execution_count": 18,
   "metadata": {},
   "outputs": [],
   "source": [
    "class TreeNode:\n",
    "    def __init__(self, x):\n",
    "        self.val = x\n",
    "        self.left = None\n",
    "        self.right = None\n",
    "        \n",
    "        \n",
    "class Solution:\n",
    "    def reConstructBinaryTree(self, preOrder, inOrder):\n",
    "        if not preOrder and not inOrder:\n",
    "            return None\n",
    "        \n",
    "        if set(preOrder) != set(inOrder):\n",
    "            return None\n",
    "        \n",
    "        root = TreeNode(preOrder[0])\n",
    "        index = inOrder.index(preOrder[0])\n",
    "        root.left = self.reConstructBinaryTree(preOrder[1:index+1], inOrder[:index])\n",
    "        root.right = self.reConstructBinaryTree(preOrder[index+1:], inOrder[index+1:])\n",
    "        \n",
    "        return root\n",
    "    \n",
    "\n",
    "        "
   ]
  },
  {
   "cell_type": "code",
   "execution_count": 21,
   "metadata": {},
   "outputs": [
    {
     "name": "stdout",
     "output_type": "stream",
     "text": [
      "1\n",
      "2\n",
      "3\n",
      "4\n",
      "5\n",
      "6\n",
      "7\n",
      "8\n"
     ]
    }
   ],
   "source": [
    "pre = [1, 2, 4, 7, 3, 5, 6, 8]\n",
    "mid = [4, 7, 2, 1, 5, 3, 8, 6]\n",
    "test = Solution()\n",
    "newTree = test.reConstructBinaryTree(pre, mid)\n",
    "\n",
    "# 按层序遍历输出树中某一层的值\n",
    "def printNodeAtLevel(treeNode, level):\n",
    "    if not treeNode or level < 0:\n",
    "        return 0\n",
    "    if level == 0:\n",
    "        print(treeNode.val)\n",
    "        return 1\n",
    "    PrintNodeAtLevel(treeNode.left, level-1)\n",
    "    PrintNodeAtLevel(treeNode.right, level-1)\n",
    "\n",
    "# 已知树的深度按层遍历输出树的值\n",
    "def printNodeByLevel(treeNode, depth):\n",
    "    for level in range(depth):\n",
    "        PrintNodeAtLevel(treeNode, level)\n",
    "\n",
    "PrintNodeByLevel(newTree, 10)"
   ]
  },
  {
   "cell_type": "code",
   "execution_count": null,
   "metadata": {},
   "outputs": [],
   "source": []
  },
  {
   "cell_type": "code",
   "execution_count": null,
   "metadata": {},
   "outputs": [],
   "source": []
  }
 ],
 "metadata": {
  "kernelspec": {
   "display_name": "Python 3",
   "language": "python",
   "name": "python3"
  },
  "language_info": {
   "codemirror_mode": {
    "name": "ipython",
    "version": 3
   },
   "file_extension": ".py",
   "mimetype": "text/x-python",
   "name": "python",
   "nbconvert_exporter": "python",
   "pygments_lexer": "ipython3",
   "version": "3.6.5"
  }
 },
 "nbformat": 4,
 "nbformat_minor": 2
}
