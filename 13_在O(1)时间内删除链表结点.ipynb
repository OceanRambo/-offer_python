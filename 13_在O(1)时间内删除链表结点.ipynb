{
 "cells": [
  {
   "cell_type": "markdown",
   "metadata": {},
   "source": [
    "当要删除的结点不是尾结点而且不是仅有一个结点的头结点，可以把该结点i的下一个结点j的内容复制到结点i，同时把i结点的next指向j结点的next，然后再删除结点j。如果要删除的链表为单结点链表且待删除的结点就是头结点，需要把头结点置为None，如果删除的结点为链表的尾结点，那么就需要顺序遍历链表，找到尾节点前面一个结点，然后将其next置空。"
   ]
  },
  {
   "cell_type": "code",
   "execution_count": 8,
   "metadata": {},
   "outputs": [],
   "source": [
    "class ListNode:\n",
    "    def __init__(self, x=None):\n",
    "        self.val = x\n",
    "        self.next = None\n",
    "        \n",
    "        \n",
    "class Solution:\n",
    "    def DeleteNode(self, pListHead, pToBeDeleted):\n",
    "        if not pListHead or not pToBeDeleted:\n",
    "            return None\n",
    "\n",
    "        if pToBeDeleted.next != None:\n",
    "            pNext = pToBeDeleted.next\n",
    "            pToBeDeleted.val = pNext.val\n",
    "            pToBeDeleted.next = pNext.next \n",
    "            \n",
    "            pNext.val = None\n",
    "            pNext.next = None\n",
    "            \n",
    "        elif pListHead == pToBeDeleted:\n",
    "            pListHead.val = None\n",
    "            pListHead.next = None\n",
    "            pToBeDeleted.val = None\n",
    "            pToBeDeleted.next = None\n",
    "            \n",
    "        else:\n",
    "            pNode = pListHead\n",
    "            while pNode.next != pToBeDeleted:\n",
    "                pNode = pNode.next\n",
    "                \n",
    "            pNode.next = None\n",
    "            pToBeDeleted.val = None\n",
    "            pToBeDeleted.next = None\n",
    "            "
   ]
  },
  {
   "cell_type": "code",
   "execution_count": 9,
   "metadata": {},
   "outputs": [
    {
     "name": "stdout",
     "output_type": "stream",
     "text": [
      "4\n",
      "None\n",
      "2\n",
      "2\n",
      "None\n"
     ]
    }
   ],
   "source": [
    "node1 = ListNode(1)\n",
    "node2 = ListNode(2)\n",
    "node3 = ListNode(3)\n",
    "node4 = ListNode(4)\n",
    "node1.next = node2\n",
    "node2.next = node3\n",
    "node3.next = node4\n",
    "\n",
    "s = Solution()\n",
    "s.DeleteNode(node1, node3)\n",
    "print(node3.val)   # 4\n",
    "\n",
    "s.DeleteNode(node1, node3)\n",
    "print(node3.val)   # None\n",
    "print(node2.val)   # 2\n",
    "\n",
    "s.DeleteNode(node1, node1)\n",
    "print(node1.val)  # 2\n",
    "\n",
    "s.DeleteNode(node1, node1)\n",
    "print(node1.val)  # None"
   ]
  },
  {
   "cell_type": "code",
   "execution_count": null,
   "metadata": {},
   "outputs": [],
   "source": []
  }
 ],
 "metadata": {
  "kernelspec": {
   "display_name": "Python 3",
   "language": "python",
   "name": "python3"
  },
  "language_info": {
   "codemirror_mode": {
    "name": "ipython",
    "version": 3
   },
   "file_extension": ".py",
   "mimetype": "text/x-python",
   "name": "python",
   "nbconvert_exporter": "python",
   "pygments_lexer": "ipython3",
   "version": "3.6.5"
  }
 },
 "nbformat": 4,
 "nbformat_minor": 2
}
