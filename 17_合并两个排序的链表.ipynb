{
 "cells": [
  {
   "cell_type": "raw",
   "metadata": {},
   "source": [
    "输入两个单调递增的链表，输出两个链表合成后的链表，合成后的链表任然按照递增顺序。"
   ]
  },
  {
   "cell_type": "code",
   "execution_count": 3,
   "metadata": {},
   "outputs": [],
   "source": [
    "class ListNode:\n",
    "    def __init__(self, x):\n",
    "        self.val = x\n",
    "        self.next = None\n",
    "\n",
    "class Solution:\n",
    "    def Merge(self, pHead1, pHead2):\n",
    "        if not pHead1:\n",
    "            return pHead2\n",
    "        if not pHead2:\n",
    "            return pHead1\n",
    "\n",
    "        pMergeHead = None\n",
    "        if pHead1.val < pHead2.val:\n",
    "            pMergeHead = pHead1\n",
    "            pMergeHead.next = self.Merge(pHead1.next, pHead2)\n",
    "        else:\n",
    "            pMergeHead = pHead2\n",
    "            pMergeHead.next = self.Merge(pHead1, pHead2.next)\n",
    "        return pMergeHead\n"
   ]
  },
  {
   "cell_type": "code",
   "execution_count": 4,
   "metadata": {},
   "outputs": [
    {
     "name": "stdout",
     "output_type": "stream",
     "text": [
      "1\n",
      "2\n",
      "3\n",
      "4\n",
      "5\n",
      "6\n",
      "7\n",
      "8\n"
     ]
    }
   ],
   "source": [
    "node1 = ListNode(1)\n",
    "node2 = ListNode(2)\n",
    "node3 = ListNode(3)\n",
    "node4 = ListNode(4)\n",
    "node5 = ListNode(5)\n",
    "node6 = ListNode(6)\n",
    "node7 = ListNode(7)\n",
    "node8 = ListNode(8)\n",
    "node1.next = node3\n",
    "node3.next = node5\n",
    "node5.next = node7\n",
    "\n",
    "node2.next = node4\n",
    "node4.next = node6\n",
    "node6.next = node8\n",
    "\n",
    "s = Solution()\n",
    "res = s.Merge(node1, node2)\n",
    "while res:\n",
    "    print(res.val)\n",
    "    res = res.next"
   ]
  },
  {
   "cell_type": "code",
   "execution_count": null,
   "metadata": {},
   "outputs": [],
   "source": []
  }
 ],
 "metadata": {
  "kernelspec": {
   "display_name": "Python 3",
   "language": "python",
   "name": "python3"
  },
  "language_info": {
   "codemirror_mode": {
    "name": "ipython",
    "version": 3
   },
   "file_extension": ".py",
   "mimetype": "text/x-python",
   "name": "python",
   "nbconvert_exporter": "python",
   "pygments_lexer": "ipython3",
   "version": "3.6.5"
  }
 },
 "nbformat": 4,
 "nbformat_minor": 2
}
