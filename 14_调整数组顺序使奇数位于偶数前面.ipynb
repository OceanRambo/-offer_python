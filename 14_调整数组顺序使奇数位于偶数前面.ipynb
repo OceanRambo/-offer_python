{
 "cells": [
  {
   "cell_type": "raw",
   "metadata": {},
   "source": [
    "输入一个整数数组，实现一个函数来调整该数组中数字的顺序，使得所有的奇数位于数组的前半部分，所有的偶数位于位于数组的后半部分，并保证奇数和奇数，偶数和偶数之间的相对位置不变。\n"
   ]
  },
  {
   "cell_type": "code",
   "execution_count": 4,
   "metadata": {},
   "outputs": [],
   "source": [
    "class Solution:\n",
    "    def reOrderArray(self,array):\n",
    "        res = []\n",
    "        for i in range(len(array)):\n",
    "            if array[i] % 2 == 0:\n",
    "                res.append(array[i])\n",
    "            if array[-i-1] % 2 != 0:\n",
    "                res.insert(0, array[-i-1])\n",
    "\n",
    "        return res\n",
    "\n"
   ]
  },
  {
   "cell_type": "code",
   "execution_count": 5,
   "metadata": {},
   "outputs": [
    {
     "name": "stdout",
     "output_type": "stream",
     "text": [
      "[1, 345, 67, 23, 2, 342, 54]\n"
     ]
    }
   ],
   "source": [
    "\n",
    "nums = [1,2,345,342,54,67,23]\n",
    "s= Solution()\n",
    "print(s.reOrderArray(nums))\n"
   ]
  },
  {
   "cell_type": "code",
   "execution_count": null,
   "metadata": {},
   "outputs": [],
   "source": []
  }
 ],
 "metadata": {
  "kernelspec": {
   "display_name": "Python 3",
   "language": "python",
   "name": "python3"
  },
  "language_info": {
   "codemirror_mode": {
    "name": "ipython",
    "version": 3
   },
   "file_extension": ".py",
   "mimetype": "text/x-python",
   "name": "python",
   "nbconvert_exporter": "python",
   "pygments_lexer": "ipython3",
   "version": "3.6.5"
  }
 },
 "nbformat": 4,
 "nbformat_minor": 2
}
