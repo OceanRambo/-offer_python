{
 "cells": [
  {
   "cell_type": "markdown",
   "metadata": {},
   "source": [
    "\n",
    "单例模式就是一个类只能创建一个实例化"
   ]
  },
  {
   "cell_type": "markdown",
   "metadata": {},
   "source": [
    "实例化一个对象时，是先执行了类的__new__方法；然后再执行类的__init__方法，对这个对象进行初始化。而__new__()这个函数, 就是为了给对象在被实例化的时候, 分配一块内存地址, 因此, 我们可以重写__new__()这个方法, 让它在第一次实例化一个对象之后, 分配一块地址, 在此后的所有实例化的其他对象时, 都不再分配新的地址, 而继续使用第一个对象所被分配的地址, 因此, 我们可以在类对象里, 定义一个类属性, 初始值设为None, 如果这个值是None就调用父类的__new__()方法, 为其分配地址, 并返回这个地址(__new__方法一定要返回一个地址)"
   ]
  },
  {
   "cell_type": "code",
   "execution_count": 9,
   "metadata": {},
   "outputs": [
    {
     "name": "stdout",
     "output_type": "stream",
     "text": [
      "d对象所在的内存地址是 2407286082080, Singleton类所在的内存地址是 2407259737048\n",
      "e对象所在的内存地址是 2407286082080, Singleton类所在的内存地址是 2407259737048\n",
      "f对象所在的内存地址是 2407286082080, Singleton类所在的内存地址是 2407259737048\n"
     ]
    }
   ],
   "source": [
    "class Singleton(object):\n",
    "    instant = None\n",
    "    \n",
    "    def __new__(cls, *args, **kwargs):\n",
    "        if cls.instant is None:\n",
    "            cls.instant = super().__new__(cls)\n",
    "        return cls.instant\n",
    "\n",
    "\n",
    "a = Singleton()\n",
    "print('d对象所在的内存地址是 %d, Singleton类所在的内存地址是 %d' % (id(a), id(Singleton)))\n",
    "b = Singleton()\n",
    "print('e对象所在的内存地址是 %d, Singleton类所在的内存地址是 %d' % (id(b), id(Singleton)))\n",
    "c = Singleton()\n",
    "print('f对象所在的内存地址是 %d, Singleton类所在的内存地址是 %d' % (id(c), id(Singleton)))"
   ]
  },
  {
   "cell_type": "markdown",
   "metadata": {},
   "source": [
    "https://www.cnblogs.com/huchong/p/8244279.html#_lab2_1_3 提供了更多方法"
   ]
  },
  {
   "cell_type": "code",
   "execution_count": null,
   "metadata": {},
   "outputs": [],
   "source": []
  }
 ],
 "metadata": {
  "kernelspec": {
   "display_name": "Python 3",
   "language": "python",
   "name": "python3"
  },
  "language_info": {
   "codemirror_mode": {
    "name": "ipython",
    "version": 3
   },
   "file_extension": ".py",
   "mimetype": "text/x-python",
   "name": "python",
   "nbconvert_exporter": "python",
   "pygments_lexer": "ipython3",
   "version": "3.6.5"
  }
 },
 "nbformat": 4,
 "nbformat_minor": 2
}
