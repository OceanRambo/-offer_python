{
 "cells": [
  {
   "cell_type": "markdown",
   "metadata": {},
   "source": [
    "请实现一个函数，将一个字符串中的空格替换成“%20”。\n",
    "例如，当字符串为We Are Happy.则经过替换之后的字符串为We%20Are%20Happy。"
   ]
  },
  {
   "cell_type": "code",
   "execution_count": 14,
   "metadata": {},
   "outputs": [],
   "source": [
    "class Solution:\n",
    "    # 直接利用字符串函数repalce()\n",
    "    def replaceBank(self, s):\n",
    "        if type(s) != str:\n",
    "            return\n",
    "        return s.replace(' ', '%20')\n",
    "    \n",
    "    # 创建新的字符串替换\n",
    "    def replaceBank2(self, s):\n",
    "        if type(s) != str:\n",
    "            return\n",
    "        tempstr = ''\n",
    "        for c in s:\n",
    "            if c == ' ':\n",
    "                tempstr += '%20'\n",
    "            else:\n",
    "                tempstr += c\n",
    "        return tempstr\n",
    "        "
   ]
  },
  {
   "cell_type": "code",
   "execution_count": 15,
   "metadata": {},
   "outputs": [
    {
     "name": "stdout",
     "output_type": "stream",
     "text": [
      "we%20are%20happy\n",
      "we%20are%20happy\n"
     ]
    }
   ],
   "source": [
    "s = 'we are happy'\n",
    "test = Solution()\n",
    "print(test.replaceBank(s))\n",
    "print(test.replaceBank2(s))\n",
    "# print(test.replaceSpace3(s))"
   ]
  },
  {
   "cell_type": "code",
   "execution_count": null,
   "metadata": {},
   "outputs": [],
   "source": []
  },
  {
   "cell_type": "code",
   "execution_count": null,
   "metadata": {},
   "outputs": [],
   "source": []
  }
 ],
 "metadata": {
  "kernelspec": {
   "display_name": "Python 3",
   "language": "python",
   "name": "python3"
  },
  "language_info": {
   "codemirror_mode": {
    "name": "ipython",
    "version": 3
   },
   "file_extension": ".py",
   "mimetype": "text/x-python",
   "name": "python",
   "nbconvert_exporter": "python",
   "pygments_lexer": "ipython3",
   "version": "3.6.5"
  }
 },
 "nbformat": 4,
 "nbformat_minor": 2
}
