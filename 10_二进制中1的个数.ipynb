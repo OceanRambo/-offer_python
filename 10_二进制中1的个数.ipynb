{
 "cells": [
  {
   "cell_type": "code",
   "execution_count": null,
   "metadata": {},
   "outputs": [],
   "source": []
  },
  {
   "cell_type": "code",
   "execution_count": 32,
   "metadata": {},
   "outputs": [],
   "source": [
    "class Solution:\n",
    "    def NumberOf1(self, n):\n",
    "        count = 0\n",
    "        \n",
    "        if n < 0:\n",
    "            n = n & 0xffffffff\n",
    "            \n",
    "        while n:\n",
    "            if n & 1:\n",
    "                count += 1\n",
    "            n = n >> 1\n",
    "            \n",
    "        return count\n",
    "    \n",
    "    \n",
    "    def NumberOf1_2(self, n):\n",
    "        count = 0\n",
    "        if n < 0:\n",
    "            n = n & 0xffffffff\n",
    "        while n:\n",
    "            count += 1\n",
    "            n = n & (n-1)          \n",
    "        return count\n",
    "    \n",
    "    "
   ]
  },
  {
   "cell_type": "code",
   "execution_count": 34,
   "metadata": {},
   "outputs": [
    {
     "name": "stdout",
     "output_type": "stream",
     "text": [
      "29\n",
      "6\n",
      "32\n",
      "6\n"
     ]
    }
   ],
   "source": [
    "S = Solution()\n",
    "print(S.NumberOf1(-8))\n",
    "print(S.NumberOf1(63))\n",
    "\n",
    "print(S.NumberOf1_2(-1))\n",
    "print(S.NumberOf1_2(63))\n"
   ]
  },
  {
   "cell_type": "code",
   "execution_count": null,
   "metadata": {},
   "outputs": [],
   "source": []
  },
  {
   "cell_type": "code",
   "execution_count": null,
   "metadata": {},
   "outputs": [],
   "source": []
  },
  {
   "cell_type": "code",
   "execution_count": null,
   "metadata": {},
   "outputs": [],
   "source": []
  }
 ],
 "metadata": {
  "kernelspec": {
   "display_name": "Python 3",
   "language": "python",
   "name": "python3"
  },
  "language_info": {
   "codemirror_mode": {
    "name": "ipython",
    "version": 3
   },
   "file_extension": ".py",
   "mimetype": "text/x-python",
   "name": "python",
   "nbconvert_exporter": "python",
   "pygments_lexer": "ipython3",
   "version": "3.6.5"
  }
 },
 "nbformat": 4,
 "nbformat_minor": 2
}
