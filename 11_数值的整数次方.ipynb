{
 "cells": [
  {
   "cell_type": "markdown",
   "metadata": {},
   "source": [
    "给定一个浮点数base和int类型的整数exponent。求base的exponent次方。"
   ]
  },
  {
   "cell_type": "markdown",
   "metadata": {},
   "source": [
    "当n为偶数, a^n = a^(n/2) * a^(n/2)\n",
    "当n为奇数, a^n = a^((n-1)/2) * a^((n-1)/2)) * a"
   ]
  },
  {
   "cell_type": "code",
   "execution_count": 8,
   "metadata": {},
   "outputs": [],
   "source": [
    "class Solution:\n",
    "    def power(self, base, exponent):\n",
    "        if exponent == 0:\n",
    "            return 1\n",
    "        if exponent == 1:\n",
    "            return base\n",
    "        if exponent == -1:\n",
    "            return 1 / base\n",
    "        \n",
    "        result = self.power(base, exponent >> 1)\n",
    "        result *= result\n",
    "        \n",
    "        if exponent & 1 == 1:\n",
    "            # 奇数\n",
    "            result *= base\n",
    "            \n",
    "        return result"
   ]
  },
  {
   "cell_type": "code",
   "execution_count": 19,
   "metadata": {},
   "outputs": [
    {
     "name": "stdout",
     "output_type": "stream",
     "text": [
      "243.0\n",
      "0.3333333333333333\n",
      "3.0\n",
      "-3.0\n",
      "-243.0\n",
      "0.0\n",
      "0.1111111111111111\n"
     ]
    }
   ],
   "source": [
    "s = Solution()\n",
    "print(s.power(3.0, 5))\n",
    "print(s.power(3.0, -1))\n",
    "print(s.power(3.0, 1))\n",
    "print(s.power(-3.0, 1))\n",
    "print(s.power(-3.0, 5))\n",
    "print(s.power(0.0, 1))\n",
    "print(s.power(-3.0, -2))"
   ]
  },
  {
   "cell_type": "code",
   "execution_count": null,
   "metadata": {},
   "outputs": [],
   "source": []
  },
  {
   "cell_type": "code",
   "execution_count": null,
   "metadata": {},
   "outputs": [],
   "source": []
  }
 ],
 "metadata": {
  "kernelspec": {
   "display_name": "Python 3",
   "language": "python",
   "name": "python3"
  },
  "language_info": {
   "codemirror_mode": {
    "name": "ipython",
    "version": 3
   },
   "file_extension": ".py",
   "mimetype": "text/x-python",
   "name": "python",
   "nbconvert_exporter": "python",
   "pygments_lexer": "ipython3",
   "version": "3.6.5"
  }
 },
 "nbformat": 4,
 "nbformat_minor": 2
}
