{
 "cells": [
  {
   "cell_type": "markdown",
   "metadata": {},
   "source": [
    "用两个栈来实现一个队列，完成队列的Push和Pop操作。"
   ]
  },
  {
   "cell_type": "markdown",
   "metadata": {},
   "source": [
    "需要两个栈Stack1和Stack2，push的时候直接push进Stack1。pop需要判断Stack1和Stack2中元素的情况，Stack1空的话，直接从Stack2 pop，Stack1不空的话，把Stack1的元素push进入Stack2，然后pop Stack2的值"
   ]
  },
  {
   "cell_type": "code",
   "execution_count": 9,
   "metadata": {},
   "outputs": [],
   "source": [
    "class Solution:\n",
    "    def __init__(self):\n",
    "        self.stack1 = []\n",
    "        self.stack2 = []\n",
    "    \n",
    "    def push(self, x):\n",
    "        self.stack1.append(x)\n",
    "    \n",
    "    def pop(self):\n",
    "        if len(self.stack1) == 0 and len(self.stack2) == 0:\n",
    "            return\n",
    "        if len(self.stack2) == 0:\n",
    "            while len(self.stack1) > 0:\n",
    "                self.stack2.append(self.stack1.pop())\n",
    "        return self.stack2.pop()\n"
   ]
  },
  {
   "cell_type": "code",
   "execution_count": 11,
   "metadata": {},
   "outputs": [
    {
     "name": "stdout",
     "output_type": "stream",
     "text": [
      "1\n",
      "2\n",
      "3\n",
      "4\n",
      "5\n"
     ]
    }
   ],
   "source": [
    "s = Solution()\n",
    "s.push(1)\n",
    "s.push(2)\n",
    "s.push(3)\n",
    "print(s.pop())\n",
    "s.push(4)\n",
    "print(s.pop())\n",
    "print(s.pop())\n",
    "s.push(5)\n",
    "print(s.pop())\n",
    "print(s.pop())"
   ]
  },
  {
   "cell_type": "markdown",
   "metadata": {},
   "source": []
  },
  {
   "cell_type": "markdown",
   "metadata": {},
   "source": [
    "扩展：两个队列实现一个栈。\n",
    "由于栈的性质是“后进先出”的，用两个队列模拟实现栈的时候就需要两个队列的元素“互捣”，从而实现栈的这一特性。用下图展现其删除过程。"
   ]
  },
  {
   "cell_type": "markdown",
   "metadata": {},
   "source": [
    "![jupyter](./queuetostack.png)"
   ]
  },
  {
   "cell_type": "markdown",
   "metadata": {},
   "source": [
    "图（1）：当栈里面插入元素“abcd”的时候，元素a在栈底（最后出去），d在栈顶（最先出去）；\n",
    "\n",
    "图（2）：将元素“abc”从q1中头删，然后再q2中尾插进来之后，头删q1中的元素“d”，就相当于实现了栈顶元素的出栈；\n",
    "\n",
    "图（3）：同理，将元素“ab”从q2中头删，然后尾插到q1中，然后再头删q2中的元素“c”;\n",
    "\n",
    "图（4）：同理，删除元素“b”;\n",
    "\n",
    "图（5）：当栈又插入一个元素“e”时，此时元素“a”不能从队列中删除，而是将元素“a”插入q2中，再删除q1中的元素“e”,最后再删除元素“a”。\n",
    "\n",
    "说明：其中红色框代表该队列中的元素出队列，该队列为空。\n"
   ]
  },
  {
   "cell_type": "code",
   "execution_count": 19,
   "metadata": {},
   "outputs": [],
   "source": [
    "class Solution2:\n",
    "    def __init__(self):\n",
    "        self.queue1 = []\n",
    "        self.queue2 = []\n",
    "    \n",
    "    def push(self, x):\n",
    "        if len(self.queue2) == 0:\n",
    "            self.queue1.append(x)\n",
    "        else:\n",
    "            self.queue2.append(x)\n",
    "    \n",
    "    def pop(self):\n",
    "        if len(self.queue1) == 0 and len(self.queue2) == 0:\n",
    "            return\n",
    "        \n",
    "        if len(self.queue1) > 0:\n",
    "            length = len(self.queue1)\n",
    "            # 留下栈顶元素等待删除\n",
    "            for i in range(length - 1):\n",
    "                self.queue2.append(self.queue1.pop(0))\n",
    "            return self.queue1.pop()\n",
    "        \n",
    "        else:\n",
    "            length = len(self.queue2)\n",
    "            for i in range(length - 1):\n",
    "                self.queue1.append(self.queue2.pop(0))\n",
    "            return self.queue2.pop()\n",
    "            \n"
   ]
  },
  {
   "cell_type": "code",
   "execution_count": 20,
   "metadata": {},
   "outputs": [
    {
     "name": "stdout",
     "output_type": "stream",
     "text": [
      "3\n",
      "4\n",
      "2\n",
      "5\n",
      "1\n"
     ]
    }
   ],
   "source": [
    "s = Solution2()\n",
    "s.push(1)\n",
    "s.push(2)\n",
    "s.push(3)\n",
    "print(s.pop())\n",
    "s.push(4)\n",
    "print(s.pop())\n",
    "print(s.pop())\n",
    "s.push(5)\n",
    "print(s.pop())\n",
    "print(s.pop())"
   ]
  },
  {
   "cell_type": "code",
   "execution_count": null,
   "metadata": {},
   "outputs": [],
   "source": []
  }
 ],
 "metadata": {
  "kernelspec": {
   "display_name": "Python 3",
   "language": "python",
   "name": "python3"
  },
  "language_info": {
   "codemirror_mode": {
    "name": "ipython",
    "version": 3
   },
   "file_extension": ".py",
   "mimetype": "text/x-python",
   "name": "python",
   "nbconvert_exporter": "python",
   "pygments_lexer": "ipython3",
   "version": "3.6.5"
  }
 },
 "nbformat": 4,
 "nbformat_minor": 2
}
